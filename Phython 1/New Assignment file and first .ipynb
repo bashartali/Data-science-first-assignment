{
 "cells": [
  {
   "cell_type": "code",
   "execution_count": 39,
   "id": "10492f1f",
   "metadata": {},
   "outputs": [
    {
     "name": "stdout",
     "output_type": "stream",
     "text": [
      "I am using version\n",
      "3.7\n"
     ]
    }
   ],
   "source": [
    "a=\"I am using\"\n",
    "b= \" version\"\n",
    "c=a+b;\n",
    "print(c);\n",
    "aa=\"3\"\n",
    "bb=\".7\"\n",
    "cc=aa+bb;\n",
    "print(cc)"
   ]
  },
  {
   "cell_type": "code",
   "execution_count": 34,
   "id": "a4b7f219",
   "metadata": {},
   "outputs": [
    {
     "name": "stdout",
     "output_type": "stream",
     "text": [
      "Ali Bashart\n"
     ]
    }
   ],
   "source": [
    "a=\"Ali\"\n",
    "b=\" Bashart\"\n",
    "c=a+b;\n",
    "print(c)"
   ]
  },
  {
   "cell_type": "code",
   "execution_count": 47,
   "id": "6babc8f8",
   "metadata": {},
   "outputs": [
    {
     "name": "stdout",
     "output_type": "stream",
     "text": [
      "77\n"
     ]
    }
   ],
   "source": [
    "a=44;\n",
    "b=33;\n",
    "c=a+b;\n",
    "print(c);"
   ]
  },
  {
   "cell_type": "code",
   "execution_count": 49,
   "id": "24269c67",
   "metadata": {},
   "outputs": [
    {
     "name": "stdout",
     "output_type": "stream",
     "text": [
      "Date:\n",
      "01.01.2022\n",
      "Time:\n",
      "10:30\n"
     ]
    }
   ],
   "source": [
    "a=\"Da\";\n",
    "b=\"te:\";\n",
    "c=a+b;\n",
    "print(c);\n",
    "aa=\"01.01\";\n",
    "bb=\".2022\";\n",
    "cc=aa+bb;\n",
    "print(cc);\n",
    "d=\"Ti\";\n",
    "e=\"me:\";\n",
    "f=d+e;\n",
    "print(f);\n",
    "g=\"10\";\n",
    "h=\":30\";\n",
    "i=g+h;\n",
    "print(i)"
   ]
  },
  {
   "cell_type": "code",
   "execution_count": 7,
   "id": "9f908242",
   "metadata": {},
   "outputs": [
    {
     "name": "stdout",
     "output_type": "stream",
     "text": [
      "Twinkle,Twinkle, little star,\n",
      "         How i wonder what you are I\n",
      "               Up above the world so high,\n",
      "               Like a diamand in the sky.\n",
      "Twinkle,Twinkle,little star,\n",
      "         How i wonder what you are\n"
     ]
    }
   ],
   "source": [
    "a=\"Twinkle,Twinkle,\";\n",
    "b=\" little star,\";\n",
    "c=a+b;\n",
    "print(c);\n",
    "d=\"         How i wonder\";\n",
    "e= \" what you are I\";\n",
    "f=d+e;\n",
    "print(f);\n",
    "g=\"               Up above the\";\n",
    "h= \" world so high,\";\n",
    "i=g+h;\n",
    "print(i);\n",
    "j=\"               Like a diamand\";\n",
    "k=\" in the sky.\";\n",
    "l=j+k;\n",
    "print(l);\n",
    "m=\"Twinkle,Twinkle,\";\n",
    "n=\"little star,\";\n",
    "o=m+n;\n",
    "print(o);\n",
    "mm=\"         How i wonder\";\n",
    "nn=\" what you are\";\n",
    "r=mm+nn;\n",
    "print(r)\n",
    "\n",
    "\n"
   ]
  },
  {
   "cell_type": "code",
   "execution_count": 1,
   "id": "ac33b0c1",
   "metadata": {},
   "outputs": [
    {
     "name": "stdout",
     "output_type": "stream",
     "text": [
      "Data science class 1\n"
     ]
    }
   ],
   "source": [
    "print(\"Data science class 1\");"
   ]
  },
  {
   "cell_type": "code",
   "execution_count": 1,
   "id": "5d4d2843",
   "metadata": {},
   "outputs": [
    {
     "name": "stdout",
     "output_type": "stream",
     "text": [
      "working\n"
     ]
    }
   ],
   "source": [
    "print (\"working\");"
   ]
  },
  {
   "cell_type": "code",
   "execution_count": null,
   "id": "b98c65b5",
   "metadata": {},
   "outputs": [],
   "source": []
  }
 ],
 "metadata": {
  "kernelspec": {
   "display_name": "Python 3 (ipykernel)",
   "language": "python",
   "name": "python3"
  },
  "language_info": {
   "codemirror_mode": {
    "name": "ipython",
    "version": 3
   },
   "file_extension": ".py",
   "mimetype": "text/x-python",
   "name": "python",
   "nbconvert_exporter": "python",
   "pygments_lexer": "ipython3",
   "version": "3.9.7"
  }
 },
 "nbformat": 4,
 "nbformat_minor": 5
}
